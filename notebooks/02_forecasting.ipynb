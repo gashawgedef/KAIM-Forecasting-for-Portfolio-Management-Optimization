{
 "cells": [
  {
   "cell_type": "code",
   "execution_count": null,
   "metadata": {},
   "outputs": [],
   "source": [
    "# Cell 1: Import necessary modules and set path\n",
    "import sys\n",
    "sys.path.append('../src/')\n",
    "import pandas as pd\n",
    "from forecasting import train_arima_model, forecast_future, plot_forecast"
   ]
  },
  {
   "cell_type": "code",
   "execution_count": null,
   "metadata": {},
   "outputs": [],
   "source": [
    "# Cell 2: Load data and train ARIMA model for TSLA\n",
    "ticker = 'TSLA'\n",
    "df = pd.read_csv(f'../data/processed/{ticker}_processed.csv', index_col='Date')\n",
    "df.index = pd.to_datetime(df.index)\n",
    "\n",
    "# Train the model\n",
    "model, forecast, test = train_arima_model(df, train_size=0.8)\n",
    "print(f\"ARIMA model trained for {ticker}\")"
   ]
  },
  {
   "cell_type": "code",
   "execution_count": null,
   "metadata": {},
   "outputs": [],
   "source": [
    "# Cell 3: Forecast future prices (6 months ~ 126 trading days)\n",
    "future_forecast = forecast_future(model, n_periods=126)\n",
    "print(\"Future forecast generated for 6 months ahead\")"
   ]
  },
  {
   "cell_type": "code",
   "execution_count": null,
   "metadata": {},
   "outputs": [],
   "source": [
    "# Cell 4: Plot the forecast\n",
    "train_data = df['Close'][:len(df) - len(test)]\n",
    "plot_forecast(train_data, test, forecast, future_forecast, ticker)\n",
    "print(f\"Forecast plot saved for {ticker}\")"
   ]
  },
  {
   "cell_type": "code",
   "execution_count": null,
   "metadata": {},
   "outputs": [],
   "source": [
    "# Cell 5: Display forecast summary (optional)\n",
    "print(\"\\nFuture Forecast Sample (first 5 days):\")\n",
    "print(future_forecast.head())"
   ]
  }
 ],
 "metadata": {
  "kernelspec": {
   "display_name": "venv",
   "language": "python",
   "name": "python3"
  },
  "language_info": {
   "codemirror_mode": {
    "name": "ipython",
    "version": 3
   },
   "file_extension": ".py",
   "mimetype": "text/x-python",
   "name": "python",
   "nbconvert_exporter": "python",
   "pygments_lexer": "ipython3",
   "version": "3.12.0"
  }
 },
 "nbformat": 4,
 "nbformat_minor": 2
}
