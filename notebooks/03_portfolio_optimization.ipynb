{
 "cells": [
  {
   "cell_type": "code",
   "execution_count": null,
   "metadata": {},
   "outputs": [],
   "source": [
    "# Cell 1: Import necessary modules and set path\n",
    "import sys\n",
    "sys.path.append('../src/')\n",
    "from portfolio_optimization import load_portfolio_data, optimize_portfolio, portfolio_performance, plot_portfolio"
   ]
  },
  {
   "cell_type": "code",
   "execution_count": null,
   "metadata": {},
   "outputs": [],
   "source": [
    "# Cell 2: Load portfolio data\n",
    "df = load_portfolio_data()\n",
    "print(\"Portfolio data loaded for TSLA, BND, SPY\")"
   ]
  },
  {
   "cell_type": "code",
   "execution_count": null,
   "metadata": {},
   "outputs": [],
   "source": [
    "# Cell 3: Optimize portfolio for maximum Sharpe Ratio\n",
    "optimal_weights = optimize_portfolio(df, risk_free_rate=0.02)\n",
    "weights_dict = dict(zip(df.columns, optimal_weights))\n",
    "print(\"\\nOptimal Weights:\")\n",
    "for ticker, weight in weights_dict.items():\n",
    "    print(f\"{ticker}: {weight:.4f}\")"
   ]
  },
  {
   "cell_type": "code",
   "execution_count": null,
   "metadata": {},
   "outputs": [],
   "source": [
    "# Cell 4: Calculate portfolio performance\n",
    "port_return, port_vol, sharpe = portfolio_performance(optimal_weights, df.pct_change().dropna())\n",
    "print(f\"\\nPortfolio Performance:\")\n",
    "print(f\"Expected Annual Return: {port_return:.4f}\")\n",
    "print(f\"Volatility: {port_vol:.4f}\")\n",
    "print(f\"Sharpe Ratio: {sharpe:.4f}\")"
   ]
  },
  {
   "cell_type": "code",
   "execution_count": null,
   "metadata": {},
   "outputs": [],
   "source": [
    "# Cell 5: Plot portfolio cumulative returns\n",
    "plot_portfolio(df, optimal_weights)\n",
    "print(\"Portfolio cumulative returns plot saved\")"
   ]
  }
 ],
 "metadata": {
  "kernelspec": {
   "display_name": "venv",
   "language": "python",
   "name": "python3"
  },
  "language_info": {
   "codemirror_mode": {
    "name": "ipython",
    "version": 3
   },
   "file_extension": ".py",
   "mimetype": "text/x-python",
   "name": "python",
   "nbconvert_exporter": "python",
   "pygments_lexer": "ipython3",
   "version": "3.12.0"
  }
 },
 "nbformat": 4,
 "nbformat_minor": 2
}
