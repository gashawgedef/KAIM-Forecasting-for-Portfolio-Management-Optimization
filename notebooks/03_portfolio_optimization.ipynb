{
 "cells": [
  {
   "cell_type": "code",
   "execution_count": 1,
   "metadata": {},
   "outputs": [
    {
     "ename": "ImportError",
     "evalue": "cannot import name 'plot_portfolio' from 'portfolio_optimization' (c:\\Users\\ggashaw\\Desktop\\10 Academy\\KAIM-Forecasting-for-Portfolio-Management-Optimization\\notebooks\\../src\\portfolio_optimization.py)",
     "output_type": "error",
     "traceback": [
      "\u001b[31m---------------------------------------------------------------------------\u001b[39m",
      "\u001b[31mImportError\u001b[39m                               Traceback (most recent call last)",
      "\u001b[36mCell\u001b[39m\u001b[36m \u001b[39m\u001b[32mIn[1]\u001b[39m\u001b[32m, line 4\u001b[39m\n\u001b[32m      2\u001b[39m \u001b[38;5;28;01mimport\u001b[39;00m\u001b[38;5;250m \u001b[39m\u001b[34;01msys\u001b[39;00m\n\u001b[32m      3\u001b[39m sys.path.append(\u001b[33m'\u001b[39m\u001b[33m../src/\u001b[39m\u001b[33m'\u001b[39m)\n\u001b[32m----> \u001b[39m\u001b[32m4\u001b[39m \u001b[38;5;28;01mfrom\u001b[39;00m\u001b[38;5;250m \u001b[39m\u001b[34;01mportfolio_optimization\u001b[39;00m\u001b[38;5;250m \u001b[39m\u001b[38;5;28;01mimport\u001b[39;00m load_portfolio_data, optimize_portfolio, portfolio_performance, plot_portfolio\n",
      "\u001b[31mImportError\u001b[39m: cannot import name 'plot_portfolio' from 'portfolio_optimization' (c:\\Users\\ggashaw\\Desktop\\10 Academy\\KAIM-Forecasting-for-Portfolio-Management-Optimization\\notebooks\\../src\\portfolio_optimization.py)"
     ]
    }
   ],
   "source": [
    "# Cell 1: Import necessary modules and set path\n",
    "import sys\n",
    "sys.path.append('../src/')\n",
    "from portfolio_optimization import load_portfolio_data, optimize_portfolio, portfolio_performance, plot_portfolio"
   ]
  },
  {
   "cell_type": "code",
   "execution_count": null,
   "metadata": {},
   "outputs": [],
   "source": [
    "# Cell 2: Load portfolio data\n",
    "df = load_portfolio_data()\n",
    "print(\"Portfolio data loaded for TSLA, BND, SPY\")"
   ]
  },
  {
   "cell_type": "code",
   "execution_count": null,
   "metadata": {},
   "outputs": [],
   "source": [
    "# Cell 3: Optimize portfolio for maximum Sharpe Ratio\n",
    "optimal_weights = optimize_portfolio(df, risk_free_rate=0.02)\n",
    "weights_dict = dict(zip(df.columns, optimal_weights))\n",
    "print(\"\\nOptimal Weights:\")\n",
    "for ticker, weight in weights_dict.items():\n",
    "    print(f\"{ticker}: {weight:.4f}\")"
   ]
  },
  {
   "cell_type": "code",
   "execution_count": null,
   "metadata": {},
   "outputs": [],
   "source": [
    "# Cell 4: Calculate portfolio performance\n",
    "port_return, port_vol, sharpe = portfolio_performance(optimal_weights, df.pct_change().dropna())\n",
    "print(f\"\\nPortfolio Performance:\")\n",
    "print(f\"Expected Annual Return: {port_return:.4f}\")\n",
    "print(f\"Volatility: {port_vol:.4f}\")\n",
    "print(f\"Sharpe Ratio: {sharpe:.4f}\")"
   ]
  },
  {
   "cell_type": "code",
   "execution_count": null,
   "metadata": {},
   "outputs": [],
   "source": [
    "# Cell 5: Plot portfolio cumulative returns\n",
    "plot_portfolio(df, optimal_weights)\n",
    "print(\"Portfolio cumulative returns plot saved\")"
   ]
  }
 ],
 "metadata": {
  "kernelspec": {
   "display_name": "venv",
   "language": "python",
   "name": "python3"
  },
  "language_info": {
   "codemirror_mode": {
    "name": "ipython",
    "version": 3
   },
   "file_extension": ".py",
   "mimetype": "text/x-python",
   "name": "python",
   "nbconvert_exporter": "python",
   "pygments_lexer": "ipython3",
   "version": "3.12.0"
  }
 },
 "nbformat": 4,
 "nbformat_minor": 2
}
