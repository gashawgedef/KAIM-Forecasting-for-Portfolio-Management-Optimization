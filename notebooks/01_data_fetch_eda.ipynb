{
 "cells": [
  {
   "cell_type": "code",
   "execution_count": 4,
   "metadata": {},
   "outputs": [],
   "source": [
    "# Cell 1: Import necessary modules and set path\n",
    "import sys\n",
    "import pandas as pd\n",
    "sys.path.append('../src/')\n",
    "from data_fetch import fetch_yfinance_data\n",
    "from preprocessing import preprocess_data, plot_eda"
   ]
  },
  {
   "cell_type": "code",
   "execution_count": 5,
   "metadata": {},
   "outputs": [
    {
     "name": "stdout",
     "output_type": "stream",
     "text": [
      "Data fetched for TSLA\n",
      "Data processed and saved for TSLA\n"
     ]
    },
    {
     "name": "stderr",
     "output_type": "stream",
     "text": [
      "c:\\Users\\ggashaw\\Desktop\\10 Academy\\KAIM-Forecasting-for-Portfolio-Management-Optimization\\notebooks\\../src\\preprocessing.py:13: FutureWarning: DataFrame.fillna with 'method' is deprecated and will raise in a future version. Use obj.ffill() or obj.bfill() instead.\n",
      "  df = df.interpolate(method='linear').fillna(method='bfill')\n"
     ]
    },
    {
     "name": "stdout",
     "output_type": "stream",
     "text": [
      "EDA plots generated for TSLA\n",
      "Data fetched for BND\n",
      "Data processed and saved for BND\n"
     ]
    },
    {
     "name": "stderr",
     "output_type": "stream",
     "text": [
      "c:\\Users\\ggashaw\\Desktop\\10 Academy\\KAIM-Forecasting-for-Portfolio-Management-Optimization\\notebooks\\../src\\preprocessing.py:13: FutureWarning: DataFrame.fillna with 'method' is deprecated and will raise in a future version. Use obj.ffill() or obj.bfill() instead.\n",
      "  df = df.interpolate(method='linear').fillna(method='bfill')\n"
     ]
    },
    {
     "name": "stdout",
     "output_type": "stream",
     "text": [
      "EDA plots generated for BND\n",
      "Data fetched for SPY\n",
      "Data processed and saved for SPY\n"
     ]
    },
    {
     "name": "stderr",
     "output_type": "stream",
     "text": [
      "c:\\Users\\ggashaw\\Desktop\\10 Academy\\KAIM-Forecasting-for-Portfolio-Management-Optimization\\notebooks\\../src\\preprocessing.py:13: FutureWarning: DataFrame.fillna with 'method' is deprecated and will raise in a future version. Use obj.ffill() or obj.bfill() instead.\n",
      "  df = df.interpolate(method='linear').fillna(method='bfill')\n"
     ]
    },
    {
     "name": "stdout",
     "output_type": "stream",
     "text": [
      "EDA plots generated for SPY\n"
     ]
    }
   ],
   "source": [
    "# Cell 2: Fetch and preprocess data for all tickers\n",
    "tickers = ['TSLA', 'BND', 'SPY']\n",
    "start_date = '2015-01-01'\n",
    "end_date = '2025-01-31'\n",
    "\n",
    "for ticker in tickers:\n",
    "    # Fetch data\n",
    "    df = fetch_yfinance_data(ticker, start_date, end_date, f'../data/raw/{ticker}_2015_2025.csv')\n",
    "    print(f\"Data fetched for {ticker}\")\n",
    "    \n",
    "    # Preprocess data\n",
    "    df = preprocess_data(df)\n",
    "    df.to_csv(f'../data/processed/{ticker}_processed.csv')\n",
    "    print(f\"Data processed and saved for {ticker}\")\n",
    "    \n",
    "    # Perform EDA and save plots\n",
    "    plot_eda(df, ticker)\n",
    "    print(f\"EDA plots generated for {ticker}\")"
   ]
  },
  {
   "cell_type": "code",
   "execution_count": 6,
   "metadata": {},
   "outputs": [
    {
     "name": "stdout",
     "output_type": "stream",
     "text": [
      "\n",
      "Basic Statistics for TSLA:\n",
      "              Open         High          Low        Close        Volume  \\\n",
      "count  2535.000000  2535.000000  2535.000000  2535.000000  2.535000e+03   \n",
      "mean    117.877662   120.474827   115.097514   117.848209  1.120308e+08   \n",
      "std     116.611575   119.236025   113.698930   116.508288  7.387509e+07   \n",
      "min       9.488000    10.331333     9.403333     9.578000  1.062000e+07   \n",
      "25%      17.259334    17.527667    16.942000    17.228000  6.680295e+07   \n",
      "50%      31.299999    32.329334    29.760000    30.298000  9.264180e+07   \n",
      "75%     222.653336   226.696671   217.061661   221.525002  1.294283e+08   \n",
      "max     475.899994   488.540009   457.510010   479.859985  9.140820e+08   \n",
      "\n",
      "       Daily_Return  \n",
      "count   2534.000000  \n",
      "mean       0.001952  \n",
      "std        0.036005  \n",
      "min       -0.210628  \n",
      "25%       -0.016241  \n",
      "50%        0.001260  \n",
      "75%        0.019256  \n",
      "max        0.219190  \n",
      "\n",
      "Basic Statistics for BND:\n",
      "              Open         High          Low        Close        Volume  \\\n",
      "count  2535.000000  2535.000000  2535.000000  2535.000000  2.535000e+03   \n",
      "mean     69.087206    69.184951    68.980312    69.083444  4.233200e+06   \n",
      "std       4.778948     4.786136     4.767924     4.777898  2.796083e+06   \n",
      "min      61.707464    61.753211    61.638835    61.676960  0.000000e+00   \n",
      "25%      65.357810    65.435040    65.280793    65.370335  2.057700e+06   \n",
      "50%      68.107128    68.254344    67.967070    68.125992  3.805800e+06   \n",
      "75%      72.629135    72.729559    72.512557    72.663261  5.626700e+06   \n",
      "max      78.650427    78.685553    78.553796    78.588928  3.193720e+07   \n",
      "\n",
      "       Daily_Return  \n",
      "count   2534.000000  \n",
      "mean       0.000062  \n",
      "std        0.003427  \n",
      "min       -0.054385  \n",
      "25%       -0.001527  \n",
      "50%        0.000124  \n",
      "75%        0.001729  \n",
      "max        0.042201  \n",
      "\n",
      "Basic Statistics for SPY:\n",
      "              Open         High          Low        Close        Volume  \\\n",
      "count  2535.000000  2535.000000  2535.000000  2535.000000  2.535000e+03   \n",
      "mean    316.021385   317.725661   314.157889   316.067402  8.714655e+07   \n",
      "std     117.921618   118.486410   117.269902   117.926910  4.487253e+07   \n",
      "min     156.354943   157.864136   154.676839   156.800842  2.027000e+07   \n",
      "25%     214.972500   215.702222   214.206900   214.841965  5.862005e+07   \n",
      "50%     277.230811   277.919519   276.073642   277.117889  7.642870e+07   \n",
      "75%     406.100240   409.134294   402.830858   405.869156  1.018866e+08   \n",
      "max     609.809998   610.780029   606.799988   609.750000  5.072443e+08   \n",
      "\n",
      "       Daily_Return  \n",
      "count   2534.000000  \n",
      "mean       0.000557  \n",
      "std        0.011083  \n",
      "min       -0.109424  \n",
      "25%       -0.003703  \n",
      "50%        0.000601  \n",
      "75%        0.005929  \n",
      "max        0.090603  \n"
     ]
    }
   ],
   "source": [
    "# Cell 3: Display basic statistics (optional for exploration)\n",
    "for ticker in tickers:\n",
    "    df = pd.read_csv(f'../data/processed/{ticker}_processed.csv', index_col='Date')\n",
    "    print(f\"\\nBasic Statistics for {ticker}:\")\n",
    "    print(df.describe())"
   ]
  },
  {
   "cell_type": "code",
   "execution_count": null,
   "metadata": {},
   "outputs": [],
   "source": []
  }
 ],
 "metadata": {
  "kernelspec": {
   "display_name": "venv",
   "language": "python",
   "name": "python3"
  },
  "language_info": {
   "codemirror_mode": {
    "name": "ipython",
    "version": 3
   },
   "file_extension": ".py",
   "mimetype": "text/x-python",
   "name": "python",
   "nbconvert_exporter": "python",
   "pygments_lexer": "ipython3",
   "version": "3.12.0"
  }
 },
 "nbformat": 4,
 "nbformat_minor": 2
}
